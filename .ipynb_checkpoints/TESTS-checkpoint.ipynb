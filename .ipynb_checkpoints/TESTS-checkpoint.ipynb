{
 "cells": [
  {
   "cell_type": "code",
   "execution_count": 1,
   "metadata": {},
   "outputs": [],
   "source": [
    "import csv\n",
    "import pandas as pd\n",
    "import seaborn as sns"
   ]
  },
  {
   "cell_type": "code",
   "execution_count": 2,
   "metadata": {},
   "outputs": [],
   "source": [
    "node_info = pd.read_csv(\"data/node_information.csv\", names = [\"Id\",\"Pubyear\",\"Title\",\"Authors\",\"Journal\",\"Abstract\"])\n",
    "node_edges = pd.read_csv(\"data/training_set.csv\", delimiter=\" \", names = [\"Source\",\"Target\",\"Type\"])"
   ]
  },
  {
   "cell_type": "code",
   "execution_count": 3,
   "metadata": {},
   "outputs": [],
   "source": [
    "ev = node_edges[node_edges[\"Type\"]==1].values"
   ]
  },
  {
   "cell_type": "code",
   "execution_count": 5,
   "metadata": {},
   "outputs": [],
   "source": [
    "l1 = node_info[node_info[\"Id\"]==ev[4][0]]"
   ]
  },
  {
   "cell_type": "code",
   "execution_count": 9,
   "metadata": {},
   "outputs": [
    {
     "data": {
      "text/plain": [
       "1997"
      ]
     },
     "execution_count": 9,
     "metadata": {},
     "output_type": "execute_result"
    }
   ],
   "source": [
    "l1[\"Pubyear\"].values[0]"
   ]
  },
  {
   "cell_type": "code",
   "execution_count": null,
   "metadata": {},
   "outputs": [],
   "source": [
    "p = []\n",
    "m = []\n",
    "a = 0\n",
    "for i in ev:\n",
    "    a+=1\n",
    "    year1 = node_info[node_info[\"Id\"]==i[0]][\"Pubyear\"].values[0]\n",
    "    year2 = node_info[node_info[\"Id\"]==i[1]][\"Pubyear\"].values[0]\n",
    "    delta = year1-year2\n",
    "    if delta > 0:\n",
    "        p.append(delta)\n",
    "    else:\n",
    "        m.append(delta)\n",
    "    if a > 10000:\n",
    "        break"
   ]
  },
  {
   "cell_type": "code",
   "execution_count": null,
   "metadata": {},
   "outputs": [],
   "source": []
  }
 ],
 "metadata": {
  "kernelspec": {
   "display_name": "Python 3",
   "language": "python",
   "name": "python3"
  },
  "language_info": {
   "codemirror_mode": {
    "name": "ipython",
    "version": 3
   },
   "file_extension": ".py",
   "mimetype": "text/x-python",
   "name": "python",
   "nbconvert_exporter": "python",
   "pygments_lexer": "ipython3",
   "version": "3.6.5"
  }
 },
 "nbformat": 4,
 "nbformat_minor": 2
}

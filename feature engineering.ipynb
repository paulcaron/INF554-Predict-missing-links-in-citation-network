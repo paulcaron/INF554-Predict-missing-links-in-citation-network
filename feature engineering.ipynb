{
 "cells": [
  {
   "cell_type": "code",
   "execution_count": 1,
   "metadata": {},
   "outputs": [
    {
     "name": "stderr",
     "output_type": "stream",
     "text": [
      "/opt/conda/lib/python3.6/site-packages/h5py/__init__.py:36: FutureWarning: Conversion of the second argument of issubdtype from `float` to `np.floating` is deprecated. In future, it will be treated as `np.float64 == np.dtype(float).type`.\n",
      "  from ._conv import register_converters as _register_converters\n",
      "Using TensorFlow backend.\n"
     ]
    }
   ],
   "source": [
    "from main import *"
   ]
  },
  {
   "cell_type": "markdown",
   "metadata": {},
   "source": [
    "# Importing data"
   ]
  },
  {
   "cell_type": "code",
   "execution_count": 2,
   "metadata": {},
   "outputs": [],
   "source": [
    "node_info = pd.read_csv(\"data/node_information.csv\", names = [\"Id\",\"Pubyear\",\"Title\",\"Authors\",\"Journal\",\"Abstract\"])\n",
    "node_edges = pd.read_csv(\"data/training_set.csv\", delimiter=\" \", names = [\"Source\",\"Target\",\"Type\"])"
   ]
  },
  {
   "cell_type": "markdown",
   "metadata": {},
   "source": [
    "# Graph to create\n",
    "## Authors graph\n",
    "\n",
    "We can see that there is an author field for every paper. It is probably relevant to create an author graph to provide information on the authors because citations also depend on the paper author."
   ]
  },
  {
   "cell_type": "code",
   "execution_count": 3,
   "metadata": {},
   "outputs": [
    {
     "name": "stdout",
     "output_type": "stream",
     "text": [
      "4033/27770 papers does not have authors\n"
     ]
    }
   ],
   "source": [
    "node_info[\"Authors\"][0].split(\", \")\n",
    "#author_relation = [node_info[\"Authors\"][i].split(\", \") for i in range(len(node_info[\"Authors\"]))]\n",
    "author_relation = []\n",
    "\n",
    "t = 0\n",
    "for i in range(len(node_info[\"Authors\"])):\n",
    "\n",
    "    try:\n",
    "        author_relation.append(node_info[\"Authors\"][i].split(\", \"))\n",
    "    except AttributeError:\n",
    "        t += 1\n",
    "print(\"{}/{} papers does not have authors\".format(t,len(node_info[\"Authors\"])))\n",
    "\n"
   ]
  },
  {
   "cell_type": "markdown",
   "metadata": {},
   "source": [
    "That tells us that some papers does not have authors, or we cannot know them, and it seems to be really often."
   ]
  },
  {
   "cell_type": "markdown",
   "metadata": {},
   "source": [
    "We can use our class for graphs which is an abstract of the igraph class"
   ]
  },
  {
   "cell_type": "code",
   "execution_count": 4,
   "metadata": {},
   "outputs": [
    {
     "data": {
      "text/plain": [
       "<igraph.Graph at 0x7f7446dd2138>"
      ]
     },
     "execution_count": 4,
     "metadata": {},
     "output_type": "execute_result"
    }
   ],
   "source": [
    "author_graph = Graph()\n",
    "for r in author_relation:\n",
    "    for i in range(len(r)):\n",
    "        for j in range(i+1,len(r)):\n",
    "            author_graph.addEdge(r[i],r[j])\n",
    "            author_graph.addEdge(r[j],r[i])\n",
    "\n",
    "author_graph.commitEdges()\n",
    "\n",
    "author_graph.graph.es[\"width\"] = 1\n",
    "author_graph.graph.simplify(combine_edges={\"width\":\"sum\"})"
   ]
  },
  {
   "cell_type": "code",
   "execution_count": 4,
   "metadata": {},
   "outputs": [],
   "source": [
    "paper_graph = Graph()\n",
    "edges = node_edges[node_edges[\"Type\"]==1]\n",
    "#print(len(edges))\n",
    "edges.head()\n",
    "#print(edges[\"Source\"].iloc(1))\n",
    "#print(edges[\"Target\"].iloc(1))\n",
    "\n",
    "a = edges.values\n",
    "for i in range(len(a)):\n",
    "    paper_graph.addEdge(a[i][0],a[i][1])\n",
    "    paper_graph.addEdge(a[i][1],a[i][0])\n",
    "\n",
    "paper_graph.commitEdges()"
   ]
  },
  {
   "cell_type": "code",
   "execution_count": 74,
   "metadata": {},
   "outputs": [],
   "source": [
    "author_graph_clustering = author_graph.graph.community_fastgreedy()"
   ]
  },
  {
   "cell_type": "code",
   "execution_count": 6,
   "metadata": {},
   "outputs": [
    {
     "data": {
      "text/plain": [
       "<igraph.Graph at 0x7f9600352138>"
      ]
     },
     "execution_count": 6,
     "metadata": {},
     "output_type": "execute_result"
    }
   ],
   "source": [
    "paper_graph.graph.es[\"width\"] = 1\n",
    "paper_graph.graph.simplify(combine_edges={\"width\":\"sum\"})"
   ]
  },
  {
   "cell_type": "code",
   "execution_count": 7,
   "metadata": {},
   "outputs": [],
   "source": [
    "clustering = paper_graph.graph.community_fastgreedy()"
   ]
  },
  {
   "cell_type": "code",
   "execution_count": 10,
   "metadata": {},
   "outputs": [
    {
     "data": {
      "text/plain": [
       "282"
      ]
     },
     "execution_count": 10,
     "metadata": {},
     "output_type": "execute_result"
    }
   ],
   "source": [
    "len(clustering.as_clustering().subgraphs())"
   ]
  },
  {
   "cell_type": "code",
   "execution_count": 14,
   "metadata": {},
   "outputs": [
    {
     "data": {
      "text/plain": [
       "27684"
      ]
     },
     "execution_count": 14,
     "metadata": {},
     "output_type": "execute_result"
    }
   ],
   "source": [
    "len(clustering.as_clustering().membership)"
   ]
  },
  {
   "cell_type": "markdown",
   "metadata": {},
   "source": [
    "# Test de l'estimateur maison"
   ]
  },
  {
   "cell_type": "code",
   "execution_count": 1,
   "metadata": {
    "scrolled": true
   },
   "outputs": [
    {
     "name": "stderr",
     "output_type": "stream",
     "text": [
      "/opt/conda/lib/python3.6/site-packages/h5py/__init__.py:36: FutureWarning: Conversion of the second argument of issubdtype from `float` to `np.floating` is deprecated. In future, it will be treated as `np.float64 == np.dtype(float).type`.\n",
      "  from ._conv import register_converters as _register_converters\n",
      "Using TensorFlow backend.\n"
     ]
    }
   ],
   "source": [
    "from main import *"
   ]
  },
  {
   "cell_type": "code",
   "execution_count": 2,
   "metadata": {},
   "outputs": [],
   "source": [
    "node_info = pd.read_csv(\"data/node_information.csv\", names = [\"Id\",\"Pubyear\",\"Title\",\"Authors\",\"Journal\",\"Abstract\"])\n",
    "node_edges = pd.read_csv(\"data/training_set.csv\", delimiter=\" \", names = [\"Source\",\"Target\",\"Type\"])"
   ]
  },
  {
   "cell_type": "code",
   "execution_count": 3,
   "metadata": {},
   "outputs": [],
   "source": [
    "node_edges = shuffle(node_edges)"
   ]
  },
  {
   "cell_type": "code",
   "execution_count": 4,
   "metadata": {},
   "outputs": [],
   "source": [
    "testing_set = node_edges[:10000]\n",
    "training_set = node_edges[10000:]"
   ]
  },
  {
   "cell_type": "code",
   "execution_count": 5,
   "metadata": {},
   "outputs": [],
   "source": [
    "e = Estimator(node_info,training_set)"
   ]
  },
  {
   "cell_type": "code",
   "execution_count": 6,
   "metadata": {},
   "outputs": [
    {
     "name": "stdout",
     "output_type": "stream",
     "text": [
      "4033/27770 papers does not have authors\n",
      "Clustering...\n",
      "pubyear...\n",
      "Title NLP ...\n",
      "Abstract NLP...\n",
      "Saving features...\n",
      "Calculating features for every pair...\n",
      "Network training...\n",
      "Epoch 1/10\n",
      "605512/605512 [==============================] - 7s 11us/step - loss: 0.4556 - acc: 0.5444\n",
      "Epoch 2/10\n",
      "605512/605512 [==============================] - 7s 11us/step - loss: 0.4556 - acc: 0.5444\n",
      "Epoch 3/10\n",
      "605512/605512 [==============================] - 7s 11us/step - loss: 0.4556 - acc: 0.5444\n",
      "Epoch 4/10\n",
      "605512/605512 [==============================] - 7s 11us/step - loss: 0.4556 - acc: 0.5444\n",
      "Epoch 5/10\n",
      "605512/605512 [==============================] - 7s 11us/step - loss: 0.4556 - acc: 0.5444\n",
      "Epoch 6/10\n",
      "605512/605512 [==============================] - 7s 11us/step - loss: 0.4556 - acc: 0.5444\n",
      "Epoch 7/10\n",
      "605512/605512 [==============================] - 7s 11us/step - loss: 0.4556 - acc: 0.5444\n",
      "Epoch 8/10\n",
      "605512/605512 [==============================] - 7s 11us/step - loss: 0.4556 - acc: 0.5444\n",
      "Epoch 9/10\n",
      "605512/605512 [==============================] - 7s 11us/step - loss: 0.4556 - acc: 0.5444\n",
      "Epoch 10/10\n",
      "605512/605512 [==============================] - 7s 11us/step - loss: 0.4556 - acc: 0.5444\n"
     ]
    }
   ],
   "source": [
    "e.train(10)"
   ]
  },
  {
   "cell_type": "code",
   "execution_count": 10,
   "metadata": {},
   "outputs": [
    {
     "data": {
      "text/plain": [
       "array([0.05071317, 0.04841715, 0.04284025, 0.05262078, 0.03939113,\n",
       "       0.22336619, 0.03104872, 0.05108184, 0.15964479, 0.08249915,\n",
       "       0.05983943, 0.08869967, 0.04739741, 0.05396661, 0.03687193,\n",
       "       0.08448611, 0.04592514, 0.06845351, 0.03779163, 0.03815865,\n",
       "       0.03787412, 0.09315498, 0.0616813 , 0.0396093 , 0.05235962,\n",
       "       0.04945157, 0.19318552, 0.13180944, 0.08590242, 0.06039308,\n",
       "       0.06142566, 0.04822895, 0.07030451, 0.05897749, 0.05630416,\n",
       "       0.05727055, 0.06099028, 0.03970451, 0.11781618, 0.05057764,\n",
       "       0.04490716, 0.066838  , 0.07232165, 0.11396948, 0.06605559,\n",
       "       0.06540476, 0.05200278, 0.06816363, 0.05352842, 0.12940696,\n",
       "       0.0688632 , 0.06427414, 0.05433562, 0.05799033, 0.41028251,\n",
       "       0.05254711, 0.06484067, 0.07188221, 0.09593   , 0.05582   ,\n",
       "       0.37551597, 0.52372713, 0.13569044, 0.12887295, 0.07999739,\n",
       "       0.07086792, 0.09625199])"
      ]
     },
     "execution_count": 10,
     "metadata": {},
     "output_type": "execute_result"
    }
   ],
   "source": [
    "e.test.data"
   ]
  }
 ],
 "metadata": {
  "kernelspec": {
   "display_name": "Python 3",
   "language": "python",
   "name": "python3"
  },
  "language_info": {
   "codemirror_mode": {
    "name": "ipython",
    "version": 3
   },
   "file_extension": ".py",
   "mimetype": "text/x-python",
   "name": "python",
   "nbconvert_exporter": "python",
   "pygments_lexer": "ipython3",
   "version": "3.6.5"
  }
 },
 "nbformat": 4,
 "nbformat_minor": 2
}
